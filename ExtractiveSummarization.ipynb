{
  "nbformat": 4,
  "nbformat_minor": 0,
  "metadata": {
    "colab": {
      "provenance": [],
      "authorship_tag": "ABX9TyPLgCZXAoSQTIRWK1Fm65fo",
      "include_colab_link": true
    },
    "kernelspec": {
      "name": "python3",
      "display_name": "Python 3"
    },
    "language_info": {
      "name": "python"
    }
  },
  "cells": [
    {
      "cell_type": "markdown",
      "metadata": {
        "id": "view-in-github",
        "colab_type": "text"
      },
      "source": [
        "<a href=\"https://colab.research.google.com/github/anjalikm05/DataAnalytics/blob/master/ExtractiveSummarization.ipynb\" target=\"_parent\"><img src=\"https://colab.research.google.com/assets/colab-badge.svg\" alt=\"Open In Colab\"/></a>"
      ]
    },
    {
      "cell_type": "code",
      "execution_count": 27,
      "metadata": {
        "id": "OSS3jNQRDEd7"
      },
      "outputs": [],
      "source": [
        "!pip install --quiet transformers[sentencepiece]"
      ]
    },
    {
      "cell_type": "code",
      "source": [
        "f = open('/content/sample.txt','r')\n",
        "data = ' '.join(f.read().strip().split('\\\\n'))\n",
        "data"
      ],
      "metadata": {
        "colab": {
          "base_uri": "https://localhost:8080/",
          "height": 126
        },
        "id": "u5tahfv-Dc-U",
        "outputId": "959054a7-8437-44f3-b8cf-c2f3ab24e881"
      },
      "execution_count": 28,
      "outputs": [
        {
          "output_type": "execute_result",
          "data": {
            "text/plain": [
              "'My dear countrymen, Namaskar. Generally, this period is full of festivals; fairs are held at various places; it’s the time for religious ceremonies too. During these times of Corona crises, on the one hand people are full of exaltation and enthusiasm too; and yet in a way there’s also a discipline that touches our heart. Broadly speaking in a way, there is a feeling of responsibility amongst citizens. People are getting along with their day to day tasks, while taking care of themselves and others as well. At every event being organised in the country, the kind of patience and simplicity being witnessed this time is unprecedented. Even Ganeshotsav is being celebrated online at certain places; at most places eco-friendly Ganesh idols have been installed. Friends, if we observe very minutely, one thing will certainly draw our attention- our festivals and the environment. There has always been a deep connect between the two. On the one hand, our festivals implicitly convey the message of co-existence with the environment and nature; on the other, many festivals are celebrated precisely for protecting nature. For example, in West Champaran district of Bihar, people belonging to Thaaru tribal community have been observing a sixty-hour lockdown for centuries…..in their own words- ‘Saath ghante ke Barna’. The Thaaru community has adopted BARNA as a tradition for protection of nature; that too for centuries. During this period, neither does anyone enter the village, nor leave home, and they believe that if they step out or if someone enters from elsewhere, the to and fro movement along with other routine activities of people can lead to the destruction of new plants and trees. Our tribal brothers and sisters begin the Barna lockdown with a grand worship and conclude with jestful traditional tribal songs, music and dance programmes. Friends, these days, the festival of Onam is also being celebrated with gaiety and fervour. This festival arrives in the month of Chingam. During this period, people buy something new, decorate their homes, prepare Pookalam and enjoy Onam-Saadiya… variety of games and competitions are also held. The zest of Onam today has reached distant shores of foreign lands. Be it America, Europe or Gulf countries, the verve of Onam can be felt everywhere. Onam is increasingly turning out to be an international festival. Friends, Onam is a festival linked with our agriculture. It is also the time of a new beginning for our rural economy. Our lives, our society derive sustenance from the fortitude of farmers. Their perseverance lends myriad hues to our festivals. In the Vedas too, our food provider, Annadaata, the life sustaining shakti of our farmers has been gloriously venerated. There is a mantra in Rigved – Annanam PatayeNamah Kshetranam PatayeNamah Which means, Bow to the food provider Salute to the farmer. Even during these trying times of Corona, our farmers have proven their mettle. This time around in our country, sowing of kharif crops has increased by 7 percent compared to last year. The sowing of paddy has increased by approximately 10 percent, pulses close to 5 percent, coarse cereals almost 3 percent, oilseeds around 13 percent and cotton nearly 3 percent. For this I extend felicitations to the farmers of our country…I salute their perseverance. My dear countrymen, during this time period of Corona, the country is fighting on many fronts simultaneously. But at the same time, the question that frequently comes to mind is, how my young little friends are spending their time while they remain homebound for so long. And this is why, I, together with the Children University of Gandhinagar, a unique experiment in the world, Indian government’s Ministry of Women and Child Development, Ministry of Education, Ministry of Micro-Small and Medium Enterprises, pondered and deliberated over, what we can do for our children. It was a very useful and pleasant experience for me, because in a way it became an opportunity for me to know and learn something new. Friends, the subject that we contemplated over was – toys and especially Indian toys. We discussed how to make new toys available to the children of India, how India could become a big hub of toy production. By the way, I apologize to the parents, listening to ‘Mann Ki Baat’, as, after this, they might face an additional task of hearing out new demands for toys. Friends, whereas toys augment activity, they also give flight to our aspirations. Toys, not only entertain, they also build the mind and foster an intent too. I read somewhere what Gurudev Rabindranath Tagore had said about toys, the best toy is that which is incomplete; a toy that children together complete\\\\xa0 while playing. Gurudev Tagore had said that during his childhood, he used to make his own toys and games with his friends, with materials available at home, using his own imagination. But, one day elders interfered with those fun-filled moments of childhood. It so happened that one of his friends brought a big and beautiful foreign toy. Now, all their attention was more on flaunting the toy than the game. That toy became the centre of attraction for everyone, not the game. The child who hitherto used to play and mingle with everyone, and remain immersed in the game; the same child started to act aloof. In a way, the feeling of being distinct from the rest of the children, took over his mind. In that expensive toy, there was nothing to create; nor was there anything to learn. That is, an appealing toy had subdued, veiled and withered a brilliant child. This toy exuded pomposity, it exhibited wealth and a little nobility, but it curtailed the growth and grooming of the child’s creative spirit.\\\\xa0 The toy remained, but the game was over and the blossoming of the child stopped too. Therefore, Gurudev used to say that, toys should be such that they bring out the childhood of a child and also his or her creativity. In the National Education Policy, a lot of attention has been given on the impact of toys on different aspects of children’s lives. Learning while playing, learning to make toys, visiting toy factories, all these have been made part of the curriculum. Friends, there has been a rich tradition of local toys in our country. There are many talented and skilled artisans who possess expertise in making good toys. Some parts of India are developing also as Toy clusters, that is, as centres of toys. Like, Channapatna in Ramnagaram in Karnataka, Kondaplli in Krishna in Andhra Pradesh, Thanjavur in Tamilnadu, Dhubari in Assam, Varanasi in Uttar Pradesh – there are many such places, we can count many names. You will be surprised to know that the Global Toy Industry is of more than 7 lakh crore rupees. Such a big business of 7 lakh crore rupees but, India’s share is very little in this. Now, just spare a thought for a nation which has so much of heritage, tradition, variety, young population, will it feel good to have such little share in the toy market? Not at all, you too won’t feel good after hearing this. Friends, the toy Industry is very vast. Be it cottage industries, small industries, MSMEs and along with this big industries and private entrepreneurs too come in the ambit of this. The country will have to persevere together to promote this. Further like, there is Mr. C V Raju in Vishakhapatnam of Andhra Pradesh. Once the Eti- Koppakaa toys of his village were very popular. The speciality of these toys – these were made of wood, and secondly, you would not find any angles or corners in these toys anywhere. These toys were round from all sides hence there was no scope for injury to children. C V Raju has now started a sort of a new movement for eti-koppakaa toys along with the artisans of his village. By making excellent quality eti-koppakaa toys C V Raju has brought back the lost glory of these local toys. We can do two things through toys – bring back the glorious past in our lives and also spruce up our golden future. To my start-up friends, to our new entrepreneurs I say- Team up for toys… let us make toys together. For everybody it is the time to get vocal for local toys. Come, let us make some good quality toys for our youth. Toys should be such that in their presence childhood blooms and smiles. Let us make toys which are favourable to the environment too. Friends, similarly in this era of computers and smartphones, there is a big trend of computer games. These games are played by children and grownups as well. But even in these games, their themes are mostly extraneous. Our country has so many ideas, so many concepts; our history has been very rich. Can we make games based on that? I call upon the young talent of the country – make games in India and make games based on India too. It is also said, Let the game begin! So; let us start the game. Friends, be it virtual games, be it the sector of toys in the self-reliant India campaign, all have to play very important role, and therein lies an opportunity too. A hundred years ago when the Non-cooperation movement started, Gandhi ji had written – “Non-cooperation movement is an effort to make countrymen realise their self-respect and their power”. Today, when we are trying to make the country self-reliant, we have to move with full confidence; and make the country self-reliant in every area. A seed that was sown in the form of the Non-cooperation movement, it is now the responsibility of all of us to transform it into banyan tree of self-reliant India. My dear countrymen, everyone acknowledges the capability of Indians to offer innovation and solutions, when there is dedication and sensitivity, this power becomes limitless. At the beginning of this month an app innovation challenge was put before the youth of the country. Our youth participated enthusiastically in this Aatma Nirbhar Bharat App innovation challenge. Around 7 thousand entries were received; of these too, nearly two thirds have been made by the youth of tier two and tier three cities. This is a very auspicious indication for self-reliant India, for future of the country. You will definitely be impressed on seeing the results of the Aatma Nirbhar Bharat App innovation challenge. After a lot of scrutiny, awards have been given to around two dozen Apps in different categories. Do familiarise yourselves with these Apps and connect with them. It is possible that you too get inspired to make something like that. Among these there is an App ‘Kutuki Kids Learning app. This is an interactive app for children in which they can easily learn many aspects of maths and science through songs and stories. In this, there are activities too and games as well. Similarly, there is also an app for micro blogging platform. Its name is ku KOO.. ku. In this we can place our opinion and interact in our mother tongue through text, video or audio. Similarly,Chingari App too is getting popular among the youth. There is an app Ask Sarkar. In this you can interact through chat bot and can get right information about any government scheme – that too through all the three ways- text, audio and video. It can be a great help to you. There is another app called, Step Set Go. This is a fitness app and it keeps a track of how much you walked, how many calories you burnt; it keeps track of the data and also motivates you to stay fit. I have mentioned just a few examples. Many more apps have also won this challenge. There are many business apps and also gaming apps such as\\\\xa0Is Equal To, Books & Expense, Zoho Workplace\\\\xa0and\\\\xa0FTC Talent. Search about them on the Net and you will find a lot of information about these apps. Step forward – innovate some; implement some. Your efforts as today’s small start-ups will transform into big companies tomorrow and become mark of India in the world. And you should not forget that the big companies which exist in the world today, were also, once, start-ups. Dear countrymen, for our children and our students to display their optimum potential, show their mettle; Nutrition and proper nourishment as well play a very big role. The month of September will be observed as Nutrition Month in the entire nation. Nation and Nutriti on are very closely inter-related. We have a maxim – “Yatha Annam Tatha Mannam,” which means our mental and intellectual development is directly related to the quality of our food intake. Experts are of the opinion that the better nutrition a child imbibes in the womb and during childhood, greater is the mental development and he/she remains healthy. It is equally important that for children to be well nourished, the mother also receives proper nourishment. And nutrition merely does not only imply what you eat but also how much you eat and how often you eat. This means whether you are getting essential nutrients. Are you getting Iron, Calcium or not? Sodium or not? Vitamins or not? All these are very important aspects of Nutrition. In this movement pertaining to nutrition, people’s participation is also very crucial. It is public participation that makes it successful. In our country during the past few years, a lot of effort has been made in this direction. Especially in our villages, it is being converted into a mass movement with public participation. Whether it is the nutrition week or the nutrition month, more and more awareness is being generated through these measures. Schools have been integrated. Efforts are being made to ensure competitions for children, attempts are being made to increase awareness too. Just like there is a Class Monitor in the section, there should be a Nutrition Monitor in a similar manner and just like a report card, a Nutrition Card should also be introduced. These are some of the measures that are being initiated. During the course of the Nutrition Month, a food and nutrition quiz will also be organized on the My Gov portal, and there will be a meme competition as well. So do participate and motivate others too. Friends, if you have had the opportunity to visit the Statue of Unity of Sardar Vallabhbhai Patel in Gujarat, and when it opens after Covid Pandemic ends, you will have the opportunity to visit this spot. A unique kind of nutrition park has been created there. You can witness for yourselves nutrition related education along with fun and frolic. Friends, India is a vast country with a lot of diversity in food and drink. There are six different seasons in our country, different regions produce diverse crops according to the respective climate. Therefore, it is very important that according to the season of a particular region, a well-balanced & nutrient rich, diet plan should be drafted to include\\\\xa0 local food grains, fruits and the vegetables cultivated there. Now for example. Millets including coarse grains like Ragi/Finger Millet and Jowar/ Sorghum… these are very beneficial nutritious food. An Agricultural Fund of India is being created, it will have complete information about the crops, that are grown in each district and their related nutritional value. This fund can be of great use for all of you. Come, let us inspire one and all to eat nutritious food and stay healthy during the nutrition month. Dear countrymen, a few weeks ago, while we were celebrating our Independence Day, an interesting news caught my attention. This is the news of two brave hearts of our security forces. One is Sophie and the other Vida. Sophie and Vida are the dogs of the Indian Army who have been awarded the Chief of Army Staff ‘Commendation Cards’. Sophie and Vida received this honour because they performed their duties diligently while protecting their country. Our armed forces and security forces have many such brave dogs who not only live for the country but also sacrifice themselves for the country. Such canines have played a very important role in thwarting numerous bomb blasts and terrorist conspiracies. Some time ago I got to know in great detail about the role of dogs in the security of the country and also got to hear many stories too. One such canine named Balaram sniffed out ammunition on the route of the Amarnath Yatra. Dog, Bhavana searched out IED in 2002. During unearthing the IED, terrorists triggered an explosion and\\\\xa0 brave dog were martyred. Two or three years ago in Bijapur Chattisgarh, a sniffer dog Cracker of CRPF also attained martyrdom in an IED blast. You might have seen a very moving scene on TV a few days ago, in which the Beed Police were giving their canine colleague Rocky a final farewell with all due respect. Rocky had helped the police in solving over 300 cases. Dogs also have a significant role in Disaster Management and Rescue Missions. In India, NDRF, the National Disaster Response Force has specially trained dozens of dogs. In the event of an earthquake, building collapse, these dogs are experts in searching out people trapped under debris. Friends, I have also been told that Indian breed dogs are also very good and capable. Among the Indian breeds, Mudhol Hound and Himachali Hound are of excellent pedigree. Rajapalayam, Kanni, Chippiparai and Kombai are fabulous Indian breeds. They cost less to raise and are better adapted to the Indian environment and surroundings. Now, our security agencies are also inducting these Indian breed dogs as part of their security squad. In the recent past, Mudhol Hound dogs have been trained and inducted in the dog squad of the Army, CISF and NSG; Kombai dogs have been included by the CRPF. Research on the Indian breed dogs is also being done by the Indian Council of Agriculture Research with the aim to make them better and more beneficial. Search for these breeds on the internet and know more about them – The beauty and qualities of these breeds will leave you astounded! The next time you think of raising a pet dog, consider bringing home one of these Indian breeds. At a time when Atmanirbhar Bharat is becoming a mantra of the people, how can any domain be left untouched by its influence? My dear countrymen, in a few days from now on September 5th, we will celebrate Teacher’s day. Whenever we think of the successes we have had during the course of our lifetime, we are almost always reminded of one teacher or the other. The fast changing times coupled with the Corona crisis are posing new challenges for our teachers. I am happy that not only have our teachers accepted this challenge but\\\\xa0 also turned it into an opportunity. Ways to incorporate more and more technology in studying, ways to imbibe newer tools, ways to help students have been seamlessly embraced by our teachers… they have passed it on to their students as well. \\\\xa0Today, throughout the country, innovation is underway in some field or the other. The students and teachers are collaborating to do something new. I am confident that the way National Education Policy is bringing about a tectonic shift in the nation and that our teachers will play a significant role in disseminating its benefits to our students. Friends, especially my teacher friends, our country will celebrate the festival of the 75th year of independence in the year 2022. Prior to Independence, our country’s war of independence has had a long history. During that period, there wasn’t any corner of the country where revolutionaries for independence did not lay down their lives or sacrificed their all for the country. It is imperative that today’s generation, our students remain familiar with these heroes of our freedom struggle and feel the quintessence – in their own district & area; what transpired during the freedom movement, who laid down their life, who was imprisoned and for how long – When our students are apprised of the history of the freedom struggle viz-a-viz their local surroundings – – only then will we see the reverberations of it on the personality of the student. A lot of work in this direction needs to be done and our teachers shoulder a significant responsibility for it. For example, the district you live in, were there any events during the course of the freedom struggle in the past centuries? This could also become a topic of research for our students. A handwritten log for schools can be prepared… if there is any place in your town associated with the freedom movement, then a visit could also be planned for the students. Students of some schools can also resolve to write 75 poems and theatrical stories on the heroes of our freedom movement to mark the 75th year of our independence. Your efforts will bring to the fore stories of lakhs of unsung heroes – individuals who lived and died for the country but had faded into oblivion. In the 75th year of our independence, it will be a fitting tribute to remember and recognise the efforts of such individuals. With Teachers day to be observed on September 5th, I call upon all our teacher friends to start preparing and join hands to create an environment bringing everyone into its fold. My dear countrymen, the country is on the path of progress on which it has embarked upon and this journey will only be comfortable if each and every citizen is a stakeholder in this process and traveller in this journey. For this to happen, it is imperative that each citizen remains hale & hearty and is part of our collective efforts to overcome Corona.\\\\xa0 Safeguarding our health by observing, “Do Gaj Ki Doori, Mask Zaroori” following social distancing norms and ensuring to wear masks will help us defeat corona. I urge you to follow these guidelines and I pray for your good health. Stay healthy and stay happy, with these wishes, we will meet again in the next edition of Mann Ki Baat. Many many thanks. Namaskar.'"
            ],
            "application/vnd.google.colaboratory.intrinsic+json": {
              "type": "string"
            }
          },
          "metadata": {},
          "execution_count": 28
        }
      ]
    },
    {
      "cell_type": "code",
      "source": [
        "len(data)"
      ],
      "metadata": {
        "colab": {
          "base_uri": "https://localhost:8080/"
        },
        "id": "LvvQb5FpECfe",
        "outputId": "a31bf9a7-0639-49c9-a6c8-e5e909dc055d"
      },
      "execution_count": 29,
      "outputs": [
        {
          "output_type": "execute_result",
          "data": {
            "text/plain": [
              "21649"
            ]
          },
          "metadata": {},
          "execution_count": 29
        }
      ]
    },
    {
      "cell_type": "code",
      "source": [
        "from transformers import AutoTokenizer, AutoModelForSeq2SeqLM\n",
        "\n",
        "checkpoint = \"sshleifer/distilbart-cnn-12-6\"\n",
        "\n",
        "tokenizer = AutoTokenizer.from_pretrained(checkpoint)\n",
        "model = AutoModelForSeq2SeqLM.from_pretrained(checkpoint)"
      ],
      "metadata": {
        "id": "b1oMGp9ZEXjd"
      },
      "execution_count": 30,
      "outputs": []
    },
    {
      "cell_type": "code",
      "source": [
        "tokenizer.model_max_length"
      ],
      "metadata": {
        "colab": {
          "base_uri": "https://localhost:8080/"
        },
        "id": "-d_AM3xBEx0o",
        "outputId": "e855747c-3c64-42a1-de88-62dfb2764c19"
      },
      "execution_count": 31,
      "outputs": [
        {
          "output_type": "execute_result",
          "data": {
            "text/plain": [
              "1024"
            ]
          },
          "metadata": {},
          "execution_count": 31
        }
      ]
    },
    {
      "cell_type": "code",
      "source": [
        "tokenizer.max_len_single_sentence"
      ],
      "metadata": {
        "colab": {
          "base_uri": "https://localhost:8080/"
        },
        "id": "u4m2ClK6G44b",
        "outputId": "411dd248-849f-4941-95ed-679755670190"
      },
      "execution_count": 32,
      "outputs": [
        {
          "output_type": "execute_result",
          "data": {
            "text/plain": [
              "1022"
            ]
          },
          "metadata": {},
          "execution_count": 32
        }
      ]
    },
    {
      "cell_type": "code",
      "source": [
        "tokenizer.num_special_tokens_to_add()"
      ],
      "metadata": {
        "colab": {
          "base_uri": "https://localhost:8080/"
        },
        "id": "JtcDEoO8G8iB",
        "outputId": "a0e4d8ae-6bf4-4cfc-85c4-bf81e61bf406"
      },
      "execution_count": 33,
      "outputs": [
        {
          "output_type": "execute_result",
          "data": {
            "text/plain": [
              "2"
            ]
          },
          "metadata": {},
          "execution_count": 33
        }
      ]
    },
    {
      "cell_type": "code",
      "source": [
        "import nltk\n",
        "nltk.download('punkt')\n",
        "sentences = nltk.tokenize.sent_tokenize(data)"
      ],
      "metadata": {
        "colab": {
          "base_uri": "https://localhost:8080/"
        },
        "id": "8dtLmfb3G_HV",
        "outputId": "25df2680-2b28-4b0a-94e3-f8004887648c"
      },
      "execution_count": 34,
      "outputs": [
        {
          "output_type": "stream",
          "name": "stderr",
          "text": [
            "[nltk_data] Downloading package punkt to /root/nltk_data...\n",
            "[nltk_data]   Package punkt is already up-to-date!\n"
          ]
        }
      ]
    },
    {
      "cell_type": "code",
      "source": [
        "max([len(tokenizer.tokenize(sentence)) for sentence in sentences])"
      ],
      "metadata": {
        "colab": {
          "base_uri": "https://localhost:8080/"
        },
        "id": "umvU_gUrHD3s",
        "outputId": "d1ebd7fa-5448-4d44-86a6-a7cda7451eeb"
      },
      "execution_count": 35,
      "outputs": [
        {
          "output_type": "execute_result",
          "data": {
            "text/plain": [
              "98"
            ]
          },
          "metadata": {},
          "execution_count": 35
        }
      ]
    },
    {
      "cell_type": "code",
      "source": [
        "length = 0\n",
        "chunk = \"\"\n",
        "chunks = []\n",
        "count = -1\n",
        "for sentence in sentences:\n",
        "  count += 1\n",
        "  combined_length = len(tokenizer.tokenize(sentence)) + length # add the no. of sentence tokens to the length counter\n",
        "\n",
        "  if combined_length  <= tokenizer.max_len_single_sentence: # if it doesn't exceed\n",
        "    chunk += sentence + \" \" # add the sentence to the chunk\n",
        "    length = combined_length # update the length counter\n",
        "\n",
        "    # if it is the last sentence\n",
        "    if count == len(sentences) - 1:\n",
        "      chunks.append(chunk.strip()) # save the chunk\n",
        "    \n",
        "  else: \n",
        "    chunks.append(chunk.strip()) # save the chunk\n",
        "    \n",
        "    # reset \n",
        "    length = 0 \n",
        "    chunk = \"\"\n",
        "\n",
        "    # take care of the overflow sentence\n",
        "    chunk += sentence + \" \"\n",
        "    length = len(tokenizer.tokenize(sentence))\n",
        "len(chunks)"
      ],
      "metadata": {
        "colab": {
          "base_uri": "https://localhost:8080/"
        },
        "id": "VG55Z8xGHMTE",
        "outputId": "90dfc5c0-edae-417b-d23b-f120cf863689"
      },
      "execution_count": 36,
      "outputs": [
        {
          "output_type": "execute_result",
          "data": {
            "text/plain": [
              "5"
            ]
          },
          "metadata": {},
          "execution_count": 36
        }
      ]
    },
    {
      "cell_type": "code",
      "source": [
        "[len(tokenizer.tokenize(c)) for c in chunks]"
      ],
      "metadata": {
        "colab": {
          "base_uri": "https://localhost:8080/"
        },
        "id": "OnXJ1B_EHRc3",
        "outputId": "23a5d1a8-6f7c-4848-a32f-a669a17a5e53"
      },
      "execution_count": 37,
      "outputs": [
        {
          "output_type": "execute_result",
          "data": {
            "text/plain": [
              "[1014, 1017, 1004, 1012, 585]"
            ]
          },
          "metadata": {},
          "execution_count": 37
        }
      ]
    },
    {
      "cell_type": "code",
      "source": [
        "[len(tokenizer(c).input_ids) for c in chunks]"
      ],
      "metadata": {
        "colab": {
          "base_uri": "https://localhost:8080/"
        },
        "id": "JpkYOxPLHVxq",
        "outputId": "18ad9bdf-35cc-47bc-9848-43ba4fa58a42"
      },
      "execution_count": 38,
      "outputs": [
        {
          "output_type": "execute_result",
          "data": {
            "text/plain": [
              "[1016, 1019, 1006, 1014, 587]"
            ]
          },
          "metadata": {},
          "execution_count": 38
        }
      ]
    },
    {
      "cell_type": "code",
      "source": [
        "sum([len(tokenizer(c).input_ids) for c in chunks])"
      ],
      "metadata": {
        "colab": {
          "base_uri": "https://localhost:8080/"
        },
        "id": "zDiiOvG7HZis",
        "outputId": "8e267866-e628-42c4-8a72-4990d931cd3e"
      },
      "execution_count": 39,
      "outputs": [
        {
          "output_type": "execute_result",
          "data": {
            "text/plain": [
              "4642"
            ]
          },
          "metadata": {},
          "execution_count": 39
        }
      ]
    },
    {
      "cell_type": "code",
      "source": [
        "len(tokenizer(data).input_ids)"
      ],
      "metadata": {
        "colab": {
          "base_uri": "https://localhost:8080/"
        },
        "id": "X02e17WeHdFE",
        "outputId": "40b55c31-18f3-48b8-9fcd-5c6c81c789d9"
      },
      "execution_count": 40,
      "outputs": [
        {
          "output_type": "stream",
          "name": "stderr",
          "text": [
            "Token indices sequence length is longer than the specified maximum sequence length for this model (4633 > 1024). Running this sequence through the model will result in indexing errors\n"
          ]
        },
        {
          "output_type": "execute_result",
          "data": {
            "text/plain": [
              "4633"
            ]
          },
          "metadata": {},
          "execution_count": 40
        }
      ]
    },
    {
      "cell_type": "code",
      "source": [
        "sum([len(tokenizer.tokenize(c)) for c in chunks])"
      ],
      "metadata": {
        "colab": {
          "base_uri": "https://localhost:8080/"
        },
        "id": "syLmJ6RwHfTV",
        "outputId": "2394a0db-ead1-4d9c-9326-4f81b7b9039c"
      },
      "execution_count": 41,
      "outputs": [
        {
          "output_type": "execute_result",
          "data": {
            "text/plain": [
              "4632"
            ]
          },
          "metadata": {},
          "execution_count": 41
        }
      ]
    },
    {
      "cell_type": "code",
      "source": [
        "len(tokenizer.tokenize(data))"
      ],
      "metadata": {
        "colab": {
          "base_uri": "https://localhost:8080/"
        },
        "id": "ywYaYHtQHl8u",
        "outputId": "7c98db1d-a0f8-48af-960c-a374038e02c0"
      },
      "execution_count": 42,
      "outputs": [
        {
          "output_type": "execute_result",
          "data": {
            "text/plain": [
              "4631"
            ]
          },
          "metadata": {},
          "execution_count": 42
        }
      ]
    },
    {
      "cell_type": "code",
      "source": [
        "inputs = [tokenizer(chunk, return_tensors=\"pt\") for chunk in chunks]"
      ],
      "metadata": {
        "id": "Lu3wB3T8HoDc"
      },
      "execution_count": 43,
      "outputs": []
    },
    {
      "cell_type": "code",
      "source": [
        "for input in inputs:\n",
        "  output = model.generate(**input)\n",
        "  print(tokenizer.decode(*output, skip_special_tokens=True))"
      ],
      "metadata": {
        "colab": {
          "base_uri": "https://localhost:8080/"
        },
        "id": "VyYDTVryHwTc",
        "outputId": "dfff181f-ceb6-495b-da9a-de80ec0f4172"
      },
      "execution_count": 44,
      "outputs": [
        {
          "output_type": "stream",
          "name": "stderr",
          "text": [
            "/usr/local/lib/python3.7/dist-packages/transformers/generation_utils.py:1232: UserWarning: Neither `max_length` nor `max_new_tokens` has been set, `max_length` will default to 142 (`self.config.max_length`). Controlling `max_length` via the config is deprecated and `max_length` will be removed from the config in v5 of Transformers -- we recommend using `max_new_tokens` to control the maximum length of the generation.\n",
            "  UserWarning,\n"
          ]
        },
        {
          "output_type": "stream",
          "name": "stdout",
          "text": [
            " During Corona crises, people are full of exaltation and enthusiasm, yet in a way there’s also a discipline that touches our heart. People are getting along with their day to day tasks, while taking care of themselves and others as well. Onam is a festival linked with our agriculture and is also a time of a new beginning for our rural economy.\n",
            " The Global Toy Industry is of more than 7 lakh crore rupees but, India’s share is very little in this. Some parts of India are developing also as Toy clusters, that is, as centres of toys. We can do two things through toys – bring back the glorious past in our lives and also spruce up our golden future.\n",
            " At the beginning of this month an app innovation challenge was put before the youth of the country. The month of September will be observed as Nutrition Month in the entire nation. Nutrition and proper nourishment as well play a very big role in the nation's development. The better nutrition a child imbibes in the womb, greater is the mental development and he/she remains healthy.\n",
            " India is a vast country with a lot of diversity in food and drink. An Agricultural Fund of India is being created, it will have complete information about the crops, that are grown in each district and their related nutritional value. Let us inspire one and all to eat nutritious food and stay healthy during the nutrition month.\n",
            " Teachers day to be observed on September 5th, I call upon all our teacher friends to start preparing and join hands to create an environment bringing everyone into its fold. The country is on the path of progress on which it has embarked upon and this journey will only be comfortable if each and every citizen is a stakeholder in this process.\n"
          ]
        }
      ]
    },
    {
      "cell_type": "code",
      "source": [],
      "metadata": {
        "id": "G7rrlt9zHxQC"
      },
      "execution_count": null,
      "outputs": []
    }
  ]
}